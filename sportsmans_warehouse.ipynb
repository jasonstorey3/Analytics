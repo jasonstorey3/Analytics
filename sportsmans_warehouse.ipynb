{
  "nbformat": 4,
  "nbformat_minor": 0,
  "metadata": {
    "colab": {
      "provenance": [],
      "authorship_tag": "ABX9TyNL8XzEL+f4EkDOkYQ26J75",
      "include_colab_link": true
    },
    "kernelspec": {
      "name": "python3",
      "display_name": "Python 3"
    },
    "language_info": {
      "name": "python"
    }
  },
  "cells": [
    {
      "cell_type": "markdown",
      "metadata": {
        "id": "view-in-github",
        "colab_type": "text"
      },
      "source": [
        "<a href=\"https://colab.research.google.com/github/jasonstorey3/Analytics/blob/main/sportsmans_warehouse.ipynb\" target=\"_parent\"><img src=\"https://colab.research.google.com/assets/colab-badge.svg\" alt=\"Open In Colab\"/></a>"
      ]
    },
    {
      "cell_type": "code",
      "execution_count": 1,
      "metadata": {
        "id": "yvuUNnx-SjF6"
      },
      "outputs": [],
      "source": [
        "#import packages\n",
        "from urllib.request import Request, urlopen\n",
        "from bs4 import BeautifulSoup\n",
        "import requests"
      ]
    },
    {
      "cell_type": "code",
      "source": [
        "#make request to the page\n",
        "request = requests.get('https://stores.sportsmans.com/sportsmans-warehouse/us')\n",
        "content = request.content\n",
        "soup = BeautifulSoup(content, 'html.parser')"
      ],
      "metadata": {
        "id": "vjes1T4uTVbA"
      },
      "execution_count": 2,
      "outputs": []
    },
    {
      "cell_type": "code",
      "source": [
        "#create empty lists\n",
        "state_urls = []\n",
        "city_urls = []\n",
        "\n",
        "#soupify the html\n",
        "request = requests.get('https://stores.sportsmans.com/sportsmans-warehouse/us')\n",
        "content = request.content\n",
        "soup = BeautifulSoup(content, 'html.parser')\n",
        "\n",
        "#find all the a tags\n",
        "a_tag_list = soup.find_all('a', class_ = 'Directory-listLink')\n",
        "\n",
        "#add every link on the state page to the proper list\n",
        "for a in a_tag_list:\n",
        "  url = 'https://stores.sportsmans.com' + a.get('href').replace('..', '')\n",
        "  url_split = url.split(\"/\")\n",
        "\n",
        "  #If the length of the split url is 6\n",
        "  if len(url_split) == 6:\n",
        "  #Then add the url to the state_urls list\n",
        "    state_urls += [url]\n",
        "  #Otherwise add the url to the city_urls list\n",
        "  else:\n",
        "    city_urls += [url]\n",
        "\n",
        "print(state_urls)\n",
        "print(city_urls)"
      ],
      "metadata": {
        "id": "rCUySj1CTXps",
        "colab": {
          "base_uri": "https://localhost:8080/"
        },
        "outputId": "6a550ede-f709-4ea5-8d1e-2a0399d70134"
      },
      "execution_count": 3,
      "outputs": [
        {
          "output_type": "stream",
          "name": "stdout",
          "text": [
            "['https://stores.sportsmans.com/sportsmans-warehouse/us/ak', 'https://stores.sportsmans.com/sportsmans-warehouse/us/az', 'https://stores.sportsmans.com/sportsmans-warehouse/us/ca', 'https://stores.sportsmans.com/sportsmans-warehouse/us/co', 'https://stores.sportsmans.com/sportsmans-warehouse/us/fl', 'https://stores.sportsmans.com/sportsmans-warehouse/us/id', 'https://stores.sportsmans.com/sportsmans-warehouse/us/in', 'https://stores.sportsmans.com/sportsmans-warehouse/us/ky', 'https://stores.sportsmans.com/sportsmans-warehouse/us/mi', 'https://stores.sportsmans.com/sportsmans-warehouse/us/mt', 'https://stores.sportsmans.com/sportsmans-warehouse/us/nc', 'https://stores.sportsmans.com/sportsmans-warehouse/us/nm', 'https://stores.sportsmans.com/sportsmans-warehouse/us/nv', 'https://stores.sportsmans.com/sportsmans-warehouse/us/ny', 'https://stores.sportsmans.com/sportsmans-warehouse/us/or', 'https://stores.sportsmans.com/sportsmans-warehouse/us/pa', 'https://stores.sportsmans.com/sportsmans-warehouse/us/sc', 'https://stores.sportsmans.com/sportsmans-warehouse/us/tn', 'https://stores.sportsmans.com/sportsmans-warehouse/us/ut', 'https://stores.sportsmans.com/sportsmans-warehouse/us/va', 'https://stores.sportsmans.com/sportsmans-warehouse/us/wa', 'https://stores.sportsmans.com/sportsmans-warehouse/us/wi', 'https://stores.sportsmans.com/sportsmans-warehouse/us/wv', 'https://stores.sportsmans.com/sportsmans-warehouse/us/wy']\n",
            "['https://stores.sportsmans.com/sportsmans-warehouse/us/ar/hot-springs/436-cornerstone-blvd', 'https://stores.sportsmans.com/sportsmans-warehouse/us/ia/ankeny/921-se-oralabor-road', 'https://stores.sportsmans.com/sportsmans-warehouse/us/la/slidell/300-kensington-blvd', 'https://stores.sportsmans.com/sportsmans-warehouse/us/mn/coon-rapids/3420-124th-ave-nw', 'https://stores.sportsmans.com/sportsmans-warehouse/us/ms/southaven/130-marathon-way', 'https://stores.sportsmans.com/sportsmans-warehouse/us/nd/williston/925-32nd-ave-west', 'https://stores.sportsmans.com/sportsmans-warehouse/us/ne/grand-island/3535-w-13th-street', 'https://stores.sportsmans.com/sportsmans-warehouse/us/oh/cincinnati/700-eastgate-s-drive']\n"
          ]
        }
      ]
    },
    {
      "cell_type": "code",
      "source": [
        "#get all the city links from the state list\n",
        "for url in state_urls:\n",
        "  request = requests.get(url)\n",
        "  source = request.content\n",
        "  soup = BeautifulSoup(source, 'html.parser')\n",
        "  a_tag_list = soup.find_all('a', class_ = 'Directory-listLink')\n",
        "\n",
        "  for a in a_tag_list:\n",
        "    url = 'https://stores.sportsmans.com/' + a.get('href').replace('../../', '')\n",
        "    city_urls += [url]\n",
        "\n",
        "print(city_urls)\n",
        "print(len(city_urls))"
      ],
      "metadata": {
        "id": "bQfHq9ZSTZyV",
        "colab": {
          "base_uri": "https://localhost:8080/"
        },
        "outputId": "0b3d90bb-616a-45e9-9fc3-b4a23af996bf"
      },
      "execution_count": 4,
      "outputs": [
        {
          "output_type": "stream",
          "name": "stdout",
          "text": [
            "['https://stores.sportsmans.com/sportsmans-warehouse/us/ar/hot-springs/436-cornerstone-blvd', 'https://stores.sportsmans.com/sportsmans-warehouse/us/ia/ankeny/921-se-oralabor-road', 'https://stores.sportsmans.com/sportsmans-warehouse/us/la/slidell/300-kensington-blvd', 'https://stores.sportsmans.com/sportsmans-warehouse/us/mn/coon-rapids/3420-124th-ave-nw', 'https://stores.sportsmans.com/sportsmans-warehouse/us/ms/southaven/130-marathon-way', 'https://stores.sportsmans.com/sportsmans-warehouse/us/nd/williston/925-32nd-ave-west', 'https://stores.sportsmans.com/sportsmans-warehouse/us/ne/grand-island/3535-w-13th-street', 'https://stores.sportsmans.com/sportsmans-warehouse/us/oh/cincinnati/700-eastgate-s-drive', 'https://stores.sportsmans.com/sportsmans-warehouse/us/ak/anchorage/8681-old-seward-hwy', 'https://stores.sportsmans.com/sportsmans-warehouse/us/ak/fairbanks/423-merhar-ave', 'https://stores.sportsmans.com/sportsmans-warehouse/us/ak/juneau/8745-glacier-hwy', 'https://stores.sportsmans.com/sportsmans-warehouse/us/ak/soldotna/44402-sterling-hwy', 'https://stores.sportsmans.com/sportsmans-warehouse/us/ak/wasilla/1901-east-parks-highway', 'https://stores.sportsmans.com/sportsmans-warehouse/us/az/avondale/10145-w-mcdowell-road', 'https://stores.sportsmans.com/sportsmans-warehouse/us/az/chandler/840-north-54th-street', 'https://stores.sportsmans.com/sportsmans-warehouse/us/az/flagstaff/2231-e-route-66', 'https://stores.sportsmans.com/sportsmans-warehouse/us/az/mesa/1750-s-greenfield-rd', 'https://stores.sportsmans.com/sportsmans-warehouse/us/az/phoenix/19205-n-27th-avenue', 'https://stores.sportsmans.com/sportsmans-warehouse/us/az/prescott/1761-e-hwy-69-no26', 'https://stores.sportsmans.com/sportsmans-warehouse/us/az/show-low/4421-s-white-mountain-road', 'https://stores.sportsmans.com/sportsmans-warehouse/us/az/south-tucson/5225-s-calle-santa-cruz', 'https://stores.sportsmans.com/sportsmans-warehouse/us/az/tucson/3945-west-costco-drive', 'https://stores.sportsmans.com/sportsmans-warehouse/us/az/yuma/1038-s-castle-dome-ave', 'https://stores.sportsmans.com/sportsmans-warehouse/us/ca/brentwood/5491-lone-tree-way', 'https://stores.sportsmans.com/sportsmans-warehouse/us/ca/chico/765-east-avenue', 'https://stores.sportsmans.com/sportsmans-warehouse/us/ca/corona/2585-tuscany-st', 'https://stores.sportsmans.com/sportsmans-warehouse/us/ca/elk-grove/8217-laguna-blvd', 'https://stores.sportsmans.com/sportsmans-warehouse/us/ca/eureka/3456-broadway', 'https://stores.sportsmans.com/sportsmans-warehouse/us/ca/fairfield/1590-gateway-blvd', 'https://stores.sportsmans.com/sportsmans-warehouse/us/ca/fresno/8468-n-friant-road', 'https://stores.sportsmans.com/sportsmans-warehouse/us/ca/moreno/27550-eucalyptus-ave', 'https://stores.sportsmans.com/sportsmans-warehouse/us/ca/murrieta/25070-madison-avenue', 'https://stores.sportsmans.com/sportsmans-warehouse/us/ca/rancho-cordova/2344-sunrise-blvd', 'https://stores.sportsmans.com/sportsmans-warehouse/us/ca/redding/1659-hilltop-dr', 'https://stores.sportsmans.com/sportsmans-warehouse/us/ca/rocklin/6640-lonetree-blvd', 'https://stores.sportsmans.com/sportsmans-warehouse/us/ca/rohnert-park/5195-redwood-dr', 'https://stores.sportsmans.com/sportsmans-warehouse/us/ca/santee/240-town-center-parkway', 'https://stores.sportsmans.com/sportsmans-warehouse/us/ca/stockton/10536-trinity-parkway', 'https://stores.sportsmans.com/sportsmans-warehouse/us/ca/visalia/1650-w-visalia-parkway', 'https://stores.sportsmans.com/sportsmans-warehouse/us/ca/yuba-city/1060-harter-parkway', 'https://stores.sportsmans.com/sportsmans-warehouse/us/co/colorado-springs/555-north-chelton-road', 'https://stores.sportsmans.com/sportsmans-warehouse/us/co/grand-junction/2464-us-hwy-6-and-50', 'https://stores.sportsmans.com/sportsmans-warehouse/us/co/loveland/1675-rocky-mountain-avenue', 'https://stores.sportsmans.com/sportsmans-warehouse/us/co/montrose/3451-south-rio-grand-ave', 'https://stores.sportsmans.com/sportsmans-warehouse/us/co/n-colorado-springs/5326-north-nevada-ave', 'https://stores.sportsmans.com/sportsmans-warehouse/us/co/parker/18420-cottonwood-drive', 'https://stores.sportsmans.com/sportsmans-warehouse/us/co/pueblo/5125-n-elizabeth-st', 'https://stores.sportsmans.com/sportsmans-warehouse/us/co/sheridan/3910-river-point-parkway', 'https://stores.sportsmans.com/sportsmans-warehouse/us/co/thornton/11-w-84th-avenue', 'https://stores.sportsmans.com/sportsmans-warehouse/us/fl/cape-coral/527-sw-pine-island-road', 'https://stores.sportsmans.com/sportsmans-warehouse/us/fl/jacksonville/13075-city-square-dr', 'https://stores.sportsmans.com/sportsmans-warehouse/us/fl/lady-lake/456-n-us-hwy-27/441', 'https://stores.sportsmans.com/sportsmans-warehouse/us/fl/naples/6329-naples-blvd', 'https://stores.sportsmans.com/sportsmans-warehouse/us/fl/seminole/7967-113th-st', 'https://stores.sportsmans.com/sportsmans-warehouse/us/fl/tampa-highwoods/18071-highwoods-preserve-parkway', 'https://stores.sportsmans.com/sportsmans-warehouse/us/id/idaho-falls/2909-s-25th-e', 'https://stores.sportsmans.com/sportsmans-warehouse/us/id/lewiston/2002-thain-grade', 'https://stores.sportsmans.com/sportsmans-warehouse/us/id/meridian/3797-e-fairview-avenue', 'https://stores.sportsmans.com/sportsmans-warehouse/us/id/nampa/16865-n-market-place-blvd', 'https://stores.sportsmans.com/sportsmans-warehouse/us/id/pocatello/760-yellowstone-ave', 'https://stores.sportsmans.com/sportsmans-warehouse/us/id/twin-falls/1940-bridgeview-boulevard', 'https://stores.sportsmans.com/sportsmans-warehouse/us/in/brownsburg/909-n-green-street', 'https://stores.sportsmans.com/sportsmans-warehouse/us/in/fort-wayne/4408-illinois-road', 'https://stores.sportsmans.com/sportsmans-warehouse/us/in/indianapolis/8806-us-31-south', 'https://stores.sportsmans.com/sportsmans-warehouse/us/ky/crescent-springs/520-clock-tower-way', 'https://stores.sportsmans.com/sportsmans-warehouse/us/ky/lexington/2200-war-admiral-way', 'https://stores.sportsmans.com/sportsmans-warehouse/us/mi/kalamazoo/5215-century-ave', 'https://stores.sportsmans.com/sportsmans-warehouse/us/mi/lansing/8757-delta-market-drive', 'https://stores.sportsmans.com/sportsmans-warehouse/us/mi/traverse-city/3500-market-place-circle-drive', 'https://stores.sportsmans.com/sportsmans-warehouse/us/mi/troy/750-w-14-mile-road', 'https://stores.sportsmans.com/sportsmans-warehouse/us/mt/bozeman/2214-tschache-lane', 'https://stores.sportsmans.com/sportsmans-warehouse/us/mt/helena/2990-north-sanders-st', 'https://stores.sportsmans.com/sportsmans-warehouse/us/mt/missoula/2323-n-reserve-st', 'https://stores.sportsmans.com/sportsmans-warehouse/us/nc/asheville/800-brevard-road-suite-901', 'https://stores.sportsmans.com/sportsmans-warehouse/us/nc/greensboro/1305-bridford-parkway', 'https://stores.sportsmans.com/sportsmans-warehouse/us/nc/wilmington/4715-a-new-centre-drive', 'https://stores.sportsmans.com/sportsmans-warehouse/us/nm/albuquerque/1450-renaissance-boulevard-ne', 'https://stores.sportsmans.com/sportsmans-warehouse/us/nm/farmington/4905-e-main-st', 'https://stores.sportsmans.com/sportsmans-warehouse/us/nm/las-cruces/2230-n-telshor-blvd', 'https://stores.sportsmans.com/sportsmans-warehouse/us/nv/carson-city/1443-s-carson-st', 'https://stores.sportsmans.com/sportsmans-warehouse/us/nv/henderson/701-marks-st', 'https://stores.sportsmans.com/sportsmans-warehouse/us/nv/las-vegas/5647-centennial-center-blvd', 'https://stores.sportsmans.com/sportsmans-warehouse/us/nv/reno/3306-kietzke-lane', 'https://stores.sportsmans.com/sportsmans-warehouse/us/ny/elmira/830-county-road-64-unit-17', 'https://stores.sportsmans.com/sportsmans-warehouse/us/ny/rochester/1200-miracle-mile-drive', 'https://stores.sportsmans.com/sportsmans-warehouse/us/or/albany/1351-waverly-dr-se', 'https://stores.sportsmans.com/sportsmans-warehouse/us/or/bend/63492-hunnell-rd', 'https://stores.sportsmans.com/sportsmans-warehouse/us/or/hillsboro/10645-ne-tanasbourne-dr', 'https://stores.sportsmans.com/sportsmans-warehouse/us/or/klamath-falls/1863-avalon-street', 'https://stores.sportsmans.com/sportsmans-warehouse/us/or/medford/1710-delta-waters-rd', 'https://stores.sportsmans.com/sportsmans-warehouse/us/or/portland/9401-se-82nd-ave', 'https://stores.sportsmans.com/sportsmans-warehouse/us/or/roseburg/2122-nw-stewart-parkway', 'https://stores.sportsmans.com/sportsmans-warehouse/us/or/salem/1260-lancaster-dr-se', 'https://stores.sportsmans.com/sportsmans-warehouse/us/pa/altoona/141-sierra-drive', 'https://stores.sportsmans.com/sportsmans-warehouse/us/pa/camp-hill/3500-capital-city-mall-drive', 'https://stores.sportsmans.com/sportsmans-warehouse/us/pa/chambersburg/3285-black-gap-rd', 'https://stores.sportsmans.com/sportsmans-warehouse/us/pa/erie/2075-interchange-rd', 'https://stores.sportsmans.com/sportsmans-warehouse/us/pa/pittsburgh/120-quinn-drive', 'https://stores.sportsmans.com/sportsmans-warehouse/us/pa/warminster/970-west-street-road', 'https://stores.sportsmans.com/sportsmans-warehouse/us/pa/washington/60-old-mill-boulevard', 'https://stores.sportsmans.com/sportsmans-warehouse/us/sc/anderson/3795-clemson-blvd', 'https://stores.sportsmans.com/sportsmans-warehouse/us/sc/charleston/4956-centre-point-drive', 'https://stores.sportsmans.com/sportsmans-warehouse/us/sc/columbia/476-piney-grove-road', 'https://stores.sportsmans.com/sportsmans-warehouse/us/tn/chattanooga/6241-perimeter-dr', 'https://stores.sportsmans.com/sportsmans-warehouse/us/tn/murfreesboro/468-north-thompson-lane', 'https://stores.sportsmans.com/sportsmans-warehouse/us/ut/cedar-city/889-s-main-street', 'https://stores.sportsmans.com/sportsmans-warehouse/us/ut/heber-city/1276-s-us-189', 'https://stores.sportsmans.com/sportsmans-warehouse/us/ut/logan/99-e-1400-n', 'https://stores.sportsmans.com/sportsmans-warehouse/us/ut/midvale/165-w-7200-s', 'https://stores.sportsmans.com/sportsmans-warehouse/us/ut/provo/1075-s-university-avenue', 'https://stores.sportsmans.com/sportsmans-warehouse/us/ut/riverdale/1137-w-riverdale-road', 'https://stores.sportsmans.com/sportsmans-warehouse/us/ut/saratoga-springs/851-n-redwood-rd', 'https://stores.sportsmans.com/sportsmans-warehouse/us/ut/south-jordan/10462-s-river-heights-dr', 'https://stores.sportsmans.com/sportsmans-warehouse/us/ut/st-george/2957-east-850-north', 'https://stores.sportsmans.com/sportsmans-warehouse/us/ut/stansbury/6516-n-gateway-drive', 'https://stores.sportsmans.com/sportsmans-warehouse/us/ut/vernal/2015-w-highway-40', 'https://stores.sportsmans.com/sportsmans-warehouse/us/ut/west-jordan/1475-w-9000-s', 'https://stores.sportsmans.com/sportsmans-warehouse/us/va/fredericksburg/3708-plank-road', 'https://stores.sportsmans.com/sportsmans-warehouse/us/va/lynchburg/4026-wards-road', 'https://stores.sportsmans.com/sportsmans-warehouse/us/va/roanoke/3550-ferncliff-ave-nw', 'https://stores.sportsmans.com/sportsmans-warehouse/us/va/winchester/190-delco-plaza', 'https://stores.sportsmans.com/sportsmans-warehouse/us/wa/bellingham/4297-meridian-st', 'https://stores.sportsmans.com/sportsmans-warehouse/us/wa/east-wenatchee/611-valley-mall-pkwy', 'https://stores.sportsmans.com/sportsmans-warehouse/us/wa/everett/505-se-everett-mall-way', 'https://stores.sportsmans.com/sportsmans-warehouse/us/wa/federal-way/1405-s-348th-st', 'https://stores.sportsmans.com/sportsmans-warehouse/us/wa/kelso/321-three-rivers-dr', 'https://stores.sportsmans.com/sportsmans-warehouse/us/wa/kennewick/6603-w-canal-dr', 'https://stores.sportsmans.com/sportsmans-warehouse/us/wa/moses-lake/1020-n-stratford-road', 'https://stores.sportsmans.com/sportsmans-warehouse/us/wa/puyallup/120-31st-ave-se', 'https://stores.sportsmans.com/sportsmans-warehouse/us/wa/sequim/1235-w-washington-street', 'https://stores.sportsmans.com/sportsmans-warehouse/us/wa/silverdale/9577-ridgetop-blvd-nw', 'https://stores.sportsmans.com/sportsmans-warehouse/us/wa/spokane/6720-n-division-st', 'https://stores.sportsmans.com/sportsmans-warehouse/us/wa/spokane-valley/15118-e-indiana-ave', 'https://stores.sportsmans.com/sportsmans-warehouse/us/wa/vancouver/11505-ne-fourth-plain-rd', 'https://stores.sportsmans.com/sportsmans-warehouse/us/wa/walla-walla/1638-w-poplar-st', 'https://stores.sportsmans.com/sportsmans-warehouse/us/wi/racine/2710-south-green-bay-road', 'https://stores.sportsmans.com/sportsmans-warehouse/us/wi/wausau/226601-rib-mountain-drive', 'https://stores.sportsmans.com/sportsmans-warehouse/us/wv/morgantown/5200-gateway-drive', 'https://stores.sportsmans.com/sportsmans-warehouse/us/wv/parkersburg/4030-murdoch-avenue', 'https://stores.sportsmans.com/sportsmans-warehouse/us/wy/casper/4120-east-2nd-st', 'https://stores.sportsmans.com/sportsmans-warehouse/us/wy/cheyenne/3745-e-lincoln-way', 'https://stores.sportsmans.com/sportsmans-warehouse/us/wy/gillette/91-town-center-drive', 'https://stores.sportsmans.com/sportsmans-warehouse/us/wy/laramie/2503-grand-avenue', 'https://stores.sportsmans.com/sportsmans-warehouse/us/wy/riverton/2010-north-federal-boulevard', 'https://stores.sportsmans.com/sportsmans-warehouse/us/wy/rock-springs/1567-dewar-drive', 'https://stores.sportsmans.com/sportsmans-warehouse/us/wy/sheridan/524-e-brundage-ln']\n",
            "146\n"
          ]
        }
      ]
    },
    {
      "cell_type": "code",
      "source": [
        "#Create an all_store list\n",
        "all_stores = []\n",
        "\n",
        "#Create a loop counter\n",
        "counter = 0\n",
        "\n",
        "#List of test _urls\n",
        "test_urls = ['https://stores.sportsmans.com/sportsmans-warehouse/us/ak/anchorage/8681-old-seward-hwy', 'https://local.safeway.com/safeway/ak/juneau/3033-vintage-blvd.html']\n",
        "\n",
        "#For every url in the  list\n",
        "for url in city_urls:\n",
        "  #Make a request, download, and parse the content\n",
        "  request = requests.get(url)\n",
        "  content = request.content\n",
        "  soup = BeautifulSoup(content, \"html.parser\")\n",
        "\n",
        "  #Extract the name\n",
        "  name = soup.find('span', class_='LocationName-brand').text + \" \" + soup.find('span', class_=\"LocationName-geo\").text\n",
        "\n",
        "  #Extract the address\n",
        "  address = soup.find('span', class_= 'c-address-street-1').text\n",
        "\n",
        "  #Extract the city\n",
        "  city = soup.find('span', class_= 'c-address-city').text\n",
        "\n",
        "  #Extract the state\n",
        "  state = soup.find('abbr', class_= 'c-address-state').text\n",
        "\n",
        "  #Extract the zip\n",
        "  zip = soup.find('span', class_= 'c-address-postal-code').text\n",
        "\n",
        "  #Add name, address, city, state, and zip to store_info list\n",
        "  store_info = [name, address, city, state, zip]\n",
        "\n",
        "  #Append store_info to the all_stores list\n",
        "  all_stores += [store_info]\n",
        "\n",
        "  #Update the counter\n",
        "  counter += 1\n",
        "  #Print the loop counter and corresponding url\n",
        "  print(\"Loop \" + str(counter) + \": \" + url)\n",
        "\n",
        "#Print the all stores list\n",
        "print(all_stores)\n",
        "\n",
        "#Prepend column headers and print final list\n",
        "final_list = [[\"NAME\", \"ADDRESS\", \"CITY\", \"STATE\", \"ZIP\"]] + all_stores\n",
        "print(final_list)\n"
      ],
      "metadata": {
        "id": "FK1BlWIkTrDQ",
        "colab": {
          "base_uri": "https://localhost:8080/"
        },
        "outputId": "97b590a7-21db-4cca-ce0b-c7b2c0177380"
      },
      "execution_count": 5,
      "outputs": [
        {
          "output_type": "stream",
          "name": "stdout",
          "text": [
            "Loop 1: https://stores.sportsmans.com/sportsmans-warehouse/us/ar/hot-springs/436-cornerstone-blvd\n",
            "Loop 2: https://stores.sportsmans.com/sportsmans-warehouse/us/ia/ankeny/921-se-oralabor-road\n",
            "Loop 3: https://stores.sportsmans.com/sportsmans-warehouse/us/la/slidell/300-kensington-blvd\n",
            "Loop 4: https://stores.sportsmans.com/sportsmans-warehouse/us/mn/coon-rapids/3420-124th-ave-nw\n",
            "Loop 5: https://stores.sportsmans.com/sportsmans-warehouse/us/ms/southaven/130-marathon-way\n",
            "Loop 6: https://stores.sportsmans.com/sportsmans-warehouse/us/nd/williston/925-32nd-ave-west\n",
            "Loop 7: https://stores.sportsmans.com/sportsmans-warehouse/us/ne/grand-island/3535-w-13th-street\n",
            "Loop 8: https://stores.sportsmans.com/sportsmans-warehouse/us/oh/cincinnati/700-eastgate-s-drive\n",
            "Loop 9: https://stores.sportsmans.com/sportsmans-warehouse/us/ak/anchorage/8681-old-seward-hwy\n",
            "Loop 10: https://stores.sportsmans.com/sportsmans-warehouse/us/ak/fairbanks/423-merhar-ave\n",
            "Loop 11: https://stores.sportsmans.com/sportsmans-warehouse/us/ak/juneau/8745-glacier-hwy\n",
            "Loop 12: https://stores.sportsmans.com/sportsmans-warehouse/us/ak/soldotna/44402-sterling-hwy\n",
            "Loop 13: https://stores.sportsmans.com/sportsmans-warehouse/us/ak/wasilla/1901-east-parks-highway\n",
            "Loop 14: https://stores.sportsmans.com/sportsmans-warehouse/us/az/avondale/10145-w-mcdowell-road\n",
            "Loop 15: https://stores.sportsmans.com/sportsmans-warehouse/us/az/chandler/840-north-54th-street\n",
            "Loop 16: https://stores.sportsmans.com/sportsmans-warehouse/us/az/flagstaff/2231-e-route-66\n",
            "Loop 17: https://stores.sportsmans.com/sportsmans-warehouse/us/az/mesa/1750-s-greenfield-rd\n",
            "Loop 18: https://stores.sportsmans.com/sportsmans-warehouse/us/az/phoenix/19205-n-27th-avenue\n",
            "Loop 19: https://stores.sportsmans.com/sportsmans-warehouse/us/az/prescott/1761-e-hwy-69-no26\n",
            "Loop 20: https://stores.sportsmans.com/sportsmans-warehouse/us/az/show-low/4421-s-white-mountain-road\n",
            "Loop 21: https://stores.sportsmans.com/sportsmans-warehouse/us/az/south-tucson/5225-s-calle-santa-cruz\n",
            "Loop 22: https://stores.sportsmans.com/sportsmans-warehouse/us/az/tucson/3945-west-costco-drive\n",
            "Loop 23: https://stores.sportsmans.com/sportsmans-warehouse/us/az/yuma/1038-s-castle-dome-ave\n",
            "Loop 24: https://stores.sportsmans.com/sportsmans-warehouse/us/ca/brentwood/5491-lone-tree-way\n",
            "Loop 25: https://stores.sportsmans.com/sportsmans-warehouse/us/ca/chico/765-east-avenue\n",
            "Loop 26: https://stores.sportsmans.com/sportsmans-warehouse/us/ca/corona/2585-tuscany-st\n",
            "Loop 27: https://stores.sportsmans.com/sportsmans-warehouse/us/ca/elk-grove/8217-laguna-blvd\n",
            "Loop 28: https://stores.sportsmans.com/sportsmans-warehouse/us/ca/eureka/3456-broadway\n",
            "Loop 29: https://stores.sportsmans.com/sportsmans-warehouse/us/ca/fairfield/1590-gateway-blvd\n",
            "Loop 30: https://stores.sportsmans.com/sportsmans-warehouse/us/ca/fresno/8468-n-friant-road\n",
            "Loop 31: https://stores.sportsmans.com/sportsmans-warehouse/us/ca/moreno/27550-eucalyptus-ave\n",
            "Loop 32: https://stores.sportsmans.com/sportsmans-warehouse/us/ca/murrieta/25070-madison-avenue\n",
            "Loop 33: https://stores.sportsmans.com/sportsmans-warehouse/us/ca/rancho-cordova/2344-sunrise-blvd\n",
            "Loop 34: https://stores.sportsmans.com/sportsmans-warehouse/us/ca/redding/1659-hilltop-dr\n",
            "Loop 35: https://stores.sportsmans.com/sportsmans-warehouse/us/ca/rocklin/6640-lonetree-blvd\n",
            "Loop 36: https://stores.sportsmans.com/sportsmans-warehouse/us/ca/rohnert-park/5195-redwood-dr\n",
            "Loop 37: https://stores.sportsmans.com/sportsmans-warehouse/us/ca/santee/240-town-center-parkway\n",
            "Loop 38: https://stores.sportsmans.com/sportsmans-warehouse/us/ca/stockton/10536-trinity-parkway\n",
            "Loop 39: https://stores.sportsmans.com/sportsmans-warehouse/us/ca/visalia/1650-w-visalia-parkway\n",
            "Loop 40: https://stores.sportsmans.com/sportsmans-warehouse/us/ca/yuba-city/1060-harter-parkway\n",
            "Loop 41: https://stores.sportsmans.com/sportsmans-warehouse/us/co/colorado-springs/555-north-chelton-road\n",
            "Loop 42: https://stores.sportsmans.com/sportsmans-warehouse/us/co/grand-junction/2464-us-hwy-6-and-50\n",
            "Loop 43: https://stores.sportsmans.com/sportsmans-warehouse/us/co/loveland/1675-rocky-mountain-avenue\n",
            "Loop 44: https://stores.sportsmans.com/sportsmans-warehouse/us/co/montrose/3451-south-rio-grand-ave\n",
            "Loop 45: https://stores.sportsmans.com/sportsmans-warehouse/us/co/n-colorado-springs/5326-north-nevada-ave\n",
            "Loop 46: https://stores.sportsmans.com/sportsmans-warehouse/us/co/parker/18420-cottonwood-drive\n",
            "Loop 47: https://stores.sportsmans.com/sportsmans-warehouse/us/co/pueblo/5125-n-elizabeth-st\n",
            "Loop 48: https://stores.sportsmans.com/sportsmans-warehouse/us/co/sheridan/3910-river-point-parkway\n",
            "Loop 49: https://stores.sportsmans.com/sportsmans-warehouse/us/co/thornton/11-w-84th-avenue\n",
            "Loop 50: https://stores.sportsmans.com/sportsmans-warehouse/us/fl/cape-coral/527-sw-pine-island-road\n",
            "Loop 51: https://stores.sportsmans.com/sportsmans-warehouse/us/fl/jacksonville/13075-city-square-dr\n",
            "Loop 52: https://stores.sportsmans.com/sportsmans-warehouse/us/fl/lady-lake/456-n-us-hwy-27/441\n",
            "Loop 53: https://stores.sportsmans.com/sportsmans-warehouse/us/fl/naples/6329-naples-blvd\n",
            "Loop 54: https://stores.sportsmans.com/sportsmans-warehouse/us/fl/seminole/7967-113th-st\n",
            "Loop 55: https://stores.sportsmans.com/sportsmans-warehouse/us/fl/tampa-highwoods/18071-highwoods-preserve-parkway\n",
            "Loop 56: https://stores.sportsmans.com/sportsmans-warehouse/us/id/idaho-falls/2909-s-25th-e\n",
            "Loop 57: https://stores.sportsmans.com/sportsmans-warehouse/us/id/lewiston/2002-thain-grade\n",
            "Loop 58: https://stores.sportsmans.com/sportsmans-warehouse/us/id/meridian/3797-e-fairview-avenue\n",
            "Loop 59: https://stores.sportsmans.com/sportsmans-warehouse/us/id/nampa/16865-n-market-place-blvd\n",
            "Loop 60: https://stores.sportsmans.com/sportsmans-warehouse/us/id/pocatello/760-yellowstone-ave\n",
            "Loop 61: https://stores.sportsmans.com/sportsmans-warehouse/us/id/twin-falls/1940-bridgeview-boulevard\n",
            "Loop 62: https://stores.sportsmans.com/sportsmans-warehouse/us/in/brownsburg/909-n-green-street\n",
            "Loop 63: https://stores.sportsmans.com/sportsmans-warehouse/us/in/fort-wayne/4408-illinois-road\n",
            "Loop 64: https://stores.sportsmans.com/sportsmans-warehouse/us/in/indianapolis/8806-us-31-south\n",
            "Loop 65: https://stores.sportsmans.com/sportsmans-warehouse/us/ky/crescent-springs/520-clock-tower-way\n",
            "Loop 66: https://stores.sportsmans.com/sportsmans-warehouse/us/ky/lexington/2200-war-admiral-way\n",
            "Loop 67: https://stores.sportsmans.com/sportsmans-warehouse/us/mi/kalamazoo/5215-century-ave\n",
            "Loop 68: https://stores.sportsmans.com/sportsmans-warehouse/us/mi/lansing/8757-delta-market-drive\n",
            "Loop 69: https://stores.sportsmans.com/sportsmans-warehouse/us/mi/traverse-city/3500-market-place-circle-drive\n",
            "Loop 70: https://stores.sportsmans.com/sportsmans-warehouse/us/mi/troy/750-w-14-mile-road\n",
            "Loop 71: https://stores.sportsmans.com/sportsmans-warehouse/us/mt/bozeman/2214-tschache-lane\n",
            "Loop 72: https://stores.sportsmans.com/sportsmans-warehouse/us/mt/helena/2990-north-sanders-st\n",
            "Loop 73: https://stores.sportsmans.com/sportsmans-warehouse/us/mt/missoula/2323-n-reserve-st\n",
            "Loop 74: https://stores.sportsmans.com/sportsmans-warehouse/us/nc/asheville/800-brevard-road-suite-901\n",
            "Loop 75: https://stores.sportsmans.com/sportsmans-warehouse/us/nc/greensboro/1305-bridford-parkway\n",
            "Loop 76: https://stores.sportsmans.com/sportsmans-warehouse/us/nc/wilmington/4715-a-new-centre-drive\n",
            "Loop 77: https://stores.sportsmans.com/sportsmans-warehouse/us/nm/albuquerque/1450-renaissance-boulevard-ne\n",
            "Loop 78: https://stores.sportsmans.com/sportsmans-warehouse/us/nm/farmington/4905-e-main-st\n",
            "Loop 79: https://stores.sportsmans.com/sportsmans-warehouse/us/nm/las-cruces/2230-n-telshor-blvd\n",
            "Loop 80: https://stores.sportsmans.com/sportsmans-warehouse/us/nv/carson-city/1443-s-carson-st\n",
            "Loop 81: https://stores.sportsmans.com/sportsmans-warehouse/us/nv/henderson/701-marks-st\n",
            "Loop 82: https://stores.sportsmans.com/sportsmans-warehouse/us/nv/las-vegas/5647-centennial-center-blvd\n",
            "Loop 83: https://stores.sportsmans.com/sportsmans-warehouse/us/nv/reno/3306-kietzke-lane\n",
            "Loop 84: https://stores.sportsmans.com/sportsmans-warehouse/us/ny/elmira/830-county-road-64-unit-17\n",
            "Loop 85: https://stores.sportsmans.com/sportsmans-warehouse/us/ny/rochester/1200-miracle-mile-drive\n",
            "Loop 86: https://stores.sportsmans.com/sportsmans-warehouse/us/or/albany/1351-waverly-dr-se\n",
            "Loop 87: https://stores.sportsmans.com/sportsmans-warehouse/us/or/bend/63492-hunnell-rd\n",
            "Loop 88: https://stores.sportsmans.com/sportsmans-warehouse/us/or/hillsboro/10645-ne-tanasbourne-dr\n",
            "Loop 89: https://stores.sportsmans.com/sportsmans-warehouse/us/or/klamath-falls/1863-avalon-street\n",
            "Loop 90: https://stores.sportsmans.com/sportsmans-warehouse/us/or/medford/1710-delta-waters-rd\n",
            "Loop 91: https://stores.sportsmans.com/sportsmans-warehouse/us/or/portland/9401-se-82nd-ave\n",
            "Loop 92: https://stores.sportsmans.com/sportsmans-warehouse/us/or/roseburg/2122-nw-stewart-parkway\n",
            "Loop 93: https://stores.sportsmans.com/sportsmans-warehouse/us/or/salem/1260-lancaster-dr-se\n",
            "Loop 94: https://stores.sportsmans.com/sportsmans-warehouse/us/pa/altoona/141-sierra-drive\n",
            "Loop 95: https://stores.sportsmans.com/sportsmans-warehouse/us/pa/camp-hill/3500-capital-city-mall-drive\n",
            "Loop 96: https://stores.sportsmans.com/sportsmans-warehouse/us/pa/chambersburg/3285-black-gap-rd\n",
            "Loop 97: https://stores.sportsmans.com/sportsmans-warehouse/us/pa/erie/2075-interchange-rd\n",
            "Loop 98: https://stores.sportsmans.com/sportsmans-warehouse/us/pa/pittsburgh/120-quinn-drive\n",
            "Loop 99: https://stores.sportsmans.com/sportsmans-warehouse/us/pa/warminster/970-west-street-road\n",
            "Loop 100: https://stores.sportsmans.com/sportsmans-warehouse/us/pa/washington/60-old-mill-boulevard\n",
            "Loop 101: https://stores.sportsmans.com/sportsmans-warehouse/us/sc/anderson/3795-clemson-blvd\n",
            "Loop 102: https://stores.sportsmans.com/sportsmans-warehouse/us/sc/charleston/4956-centre-point-drive\n",
            "Loop 103: https://stores.sportsmans.com/sportsmans-warehouse/us/sc/columbia/476-piney-grove-road\n",
            "Loop 104: https://stores.sportsmans.com/sportsmans-warehouse/us/tn/chattanooga/6241-perimeter-dr\n",
            "Loop 105: https://stores.sportsmans.com/sportsmans-warehouse/us/tn/murfreesboro/468-north-thompson-lane\n",
            "Loop 106: https://stores.sportsmans.com/sportsmans-warehouse/us/ut/cedar-city/889-s-main-street\n",
            "Loop 107: https://stores.sportsmans.com/sportsmans-warehouse/us/ut/heber-city/1276-s-us-189\n",
            "Loop 108: https://stores.sportsmans.com/sportsmans-warehouse/us/ut/logan/99-e-1400-n\n",
            "Loop 109: https://stores.sportsmans.com/sportsmans-warehouse/us/ut/midvale/165-w-7200-s\n",
            "Loop 110: https://stores.sportsmans.com/sportsmans-warehouse/us/ut/provo/1075-s-university-avenue\n",
            "Loop 111: https://stores.sportsmans.com/sportsmans-warehouse/us/ut/riverdale/1137-w-riverdale-road\n",
            "Loop 112: https://stores.sportsmans.com/sportsmans-warehouse/us/ut/saratoga-springs/851-n-redwood-rd\n",
            "Loop 113: https://stores.sportsmans.com/sportsmans-warehouse/us/ut/south-jordan/10462-s-river-heights-dr\n",
            "Loop 114: https://stores.sportsmans.com/sportsmans-warehouse/us/ut/st-george/2957-east-850-north\n",
            "Loop 115: https://stores.sportsmans.com/sportsmans-warehouse/us/ut/stansbury/6516-n-gateway-drive\n",
            "Loop 116: https://stores.sportsmans.com/sportsmans-warehouse/us/ut/vernal/2015-w-highway-40\n",
            "Loop 117: https://stores.sportsmans.com/sportsmans-warehouse/us/ut/west-jordan/1475-w-9000-s\n",
            "Loop 118: https://stores.sportsmans.com/sportsmans-warehouse/us/va/fredericksburg/3708-plank-road\n",
            "Loop 119: https://stores.sportsmans.com/sportsmans-warehouse/us/va/lynchburg/4026-wards-road\n",
            "Loop 120: https://stores.sportsmans.com/sportsmans-warehouse/us/va/roanoke/3550-ferncliff-ave-nw\n",
            "Loop 121: https://stores.sportsmans.com/sportsmans-warehouse/us/va/winchester/190-delco-plaza\n",
            "Loop 122: https://stores.sportsmans.com/sportsmans-warehouse/us/wa/bellingham/4297-meridian-st\n",
            "Loop 123: https://stores.sportsmans.com/sportsmans-warehouse/us/wa/east-wenatchee/611-valley-mall-pkwy\n",
            "Loop 124: https://stores.sportsmans.com/sportsmans-warehouse/us/wa/everett/505-se-everett-mall-way\n",
            "Loop 125: https://stores.sportsmans.com/sportsmans-warehouse/us/wa/federal-way/1405-s-348th-st\n",
            "Loop 126: https://stores.sportsmans.com/sportsmans-warehouse/us/wa/kelso/321-three-rivers-dr\n",
            "Loop 127: https://stores.sportsmans.com/sportsmans-warehouse/us/wa/kennewick/6603-w-canal-dr\n",
            "Loop 128: https://stores.sportsmans.com/sportsmans-warehouse/us/wa/moses-lake/1020-n-stratford-road\n",
            "Loop 129: https://stores.sportsmans.com/sportsmans-warehouse/us/wa/puyallup/120-31st-ave-se\n",
            "Loop 130: https://stores.sportsmans.com/sportsmans-warehouse/us/wa/sequim/1235-w-washington-street\n",
            "Loop 131: https://stores.sportsmans.com/sportsmans-warehouse/us/wa/silverdale/9577-ridgetop-blvd-nw\n",
            "Loop 132: https://stores.sportsmans.com/sportsmans-warehouse/us/wa/spokane/6720-n-division-st\n",
            "Loop 133: https://stores.sportsmans.com/sportsmans-warehouse/us/wa/spokane-valley/15118-e-indiana-ave\n",
            "Loop 134: https://stores.sportsmans.com/sportsmans-warehouse/us/wa/vancouver/11505-ne-fourth-plain-rd\n",
            "Loop 135: https://stores.sportsmans.com/sportsmans-warehouse/us/wa/walla-walla/1638-w-poplar-st\n",
            "Loop 136: https://stores.sportsmans.com/sportsmans-warehouse/us/wi/racine/2710-south-green-bay-road\n",
            "Loop 137: https://stores.sportsmans.com/sportsmans-warehouse/us/wi/wausau/226601-rib-mountain-drive\n",
            "Loop 138: https://stores.sportsmans.com/sportsmans-warehouse/us/wv/morgantown/5200-gateway-drive\n",
            "Loop 139: https://stores.sportsmans.com/sportsmans-warehouse/us/wv/parkersburg/4030-murdoch-avenue\n",
            "Loop 140: https://stores.sportsmans.com/sportsmans-warehouse/us/wy/casper/4120-east-2nd-st\n",
            "Loop 141: https://stores.sportsmans.com/sportsmans-warehouse/us/wy/cheyenne/3745-e-lincoln-way\n",
            "Loop 142: https://stores.sportsmans.com/sportsmans-warehouse/us/wy/gillette/91-town-center-drive\n",
            "Loop 143: https://stores.sportsmans.com/sportsmans-warehouse/us/wy/laramie/2503-grand-avenue\n",
            "Loop 144: https://stores.sportsmans.com/sportsmans-warehouse/us/wy/riverton/2010-north-federal-boulevard\n",
            "Loop 145: https://stores.sportsmans.com/sportsmans-warehouse/us/wy/rock-springs/1567-dewar-drive\n",
            "Loop 146: https://stores.sportsmans.com/sportsmans-warehouse/us/wy/sheridan/524-e-brundage-ln\n",
            "[[\"Sportsman's Warehouse Hot Springs\", '436 Cornerstone Blvd', 'Hot Springs', 'AR', '71913'], [\"Sportsman's Warehouse Ankeny\", '921 SE Oralabor Road', 'Ankeny', 'IA', '50021'], [\"Sportsman's Warehouse Slidell\", '300 Kensington Blvd.', 'Slidell', 'LA', '70458'], [\"Sportsman's Warehouse Coon Rapids\", '3420 124th Ave NW', 'Coon Rapids', 'MN', '55433'], [\"Sportsman's Warehouse Southaven\", '130 Marathon Way', 'Southaven', 'MS', '38671'], [\"Sportsman's Warehouse Williston\", '925 32nd Ave. West', 'Williston', 'ND', '58801'], [\"Sportsman's Warehouse Grand Island\", '3535 W. 13th Street', 'Grand Island', 'NE', '68803'], [\"Sportsman's Warehouse Cincinnati\", '700 Eastgate S. Drive', 'Cincinnati', 'OH', '45245'], [\"Sportsman's Warehouse Anchorage\", '8681 Old Seward Hwy', 'Anchorage', 'AK', '99515'], [\"Sportsman's Warehouse Fairbanks\", '423 Merhar Ave.', 'Fairbanks', 'AK', '99701'], [\"Sportsman's Warehouse Juneau\", '8745 Glacier Hwy', 'Juneau', 'AK', '99801'], [\"Sportsman's Warehouse Soldotna\", '44402 Sterling Hwy.', 'Soldotna', 'AK', '99669'], [\"Sportsman's Warehouse Wasilla\", '1901 East Parks Highway', 'Wasilla', 'AK', '99654'], [\"Sportsman's Warehouse Avondale\", '10145 W McDowell Road', 'Avondale', 'AZ', '85392'], [\"Sportsman's Warehouse Chandler\", '840 North 54th street', 'Chandler', 'AZ', '85226'], [\"Sportsman's Warehouse Flagstaff\", '2231 E Route 66', 'Flagstaff', 'AZ', '86004'], [\"Sportsman's Warehouse Mesa\", '1750 S. Greenfield Rd.', 'Mesa', 'AZ', '85206'], [\"Sportsman's Warehouse Phoenix\", '19205 N. 27th Avenue', 'Phoenix', 'AZ', '85027'], [\"Sportsman's Warehouse Prescott\", '1761 E Hwy 69 No.26', 'Prescott', 'AZ', '86301'], [\"Sportsman's Warehouse Show Low\", '4421 S White Mountain Road', 'Show Low', 'AZ', '85901'], [\"Sportsman's Warehouse South Tucson\", '5225 S Calle Santa Cruz', 'South Tucson', 'AZ', '85706'], [\"Sportsman's Warehouse Tucson\", '3945 West Costco Drive', 'Tucson', 'AZ', '85741'], [\"Sportsman's Warehouse Yuma\", '1038 S. Castle Dome Ave', 'Yuma', 'AZ', '85365'], [\"Sportsman's Warehouse Brentwood\", '5491 Lone Tree Way', 'Brentwood', 'CA', '94513'], [\"Sportsman's Warehouse Chico\", '765 East Avenue', 'Chico', 'CA', '95926'], [\"Sportsman's Warehouse Corona\", '2585 Tuscany St.', 'Corona', 'CA', '92881'], [\"Sportsman's Warehouse Elk Grove\", '8217 Laguna Blvd.', 'Elk Grove', 'CA', '95758'], [\"Sportsman's Warehouse Eureka\", '3456 Broadway', 'Eureka', 'CA', '95503'], [\"Sportsman's Warehouse Fairfield\", '1590 Gateway Blvd', 'Fairfield', 'CA', '94533'], [\"Sportsman's Warehouse Fresno\", '8468 N Friant Road', 'Fresno', 'CA', '93720'], [\"Sportsman's Warehouse Moreno\", '27550 Eucalyptus Ave', 'Moreno', 'CA', '92555'], [\"Sportsman's Warehouse Murrieta\", '25070 Madison Avenue', 'Murrieta', 'CA', '92562'], [\"Sportsman's Warehouse Rancho Cordova\", '2344 Sunrise Blvd', 'Rancho Cordova', 'CA', '95670'], [\"Sportsman's Warehouse Redding\", '1659 Hilltop Dr.', 'Redding', 'CA', '96002'], [\"Sportsman's Warehouse Rocklin\", '6640 Lonetree Blvd', 'Rocklin', 'CA', '95765'], [\"Sportsman's Warehouse Rohnert Park\", '5195 Redwood Dr.', 'Rohnert Park', 'CA', '94928'], [\"Sportsman's Warehouse Santee\", '240 Town Center Parkway', 'Santee', 'CA', '92071'], [\"Sportsman's Warehouse Stockton\", '10536 Trinity Parkway', 'Stockton', 'CA', '95219'], [\"Sportsman's Warehouse Visalia\", '1650 W Visalia Parkway', 'Visalia', 'CA', '93277'], [\"Sportsman's Warehouse Yuba City\", '1060 Harter Parkway', 'Yuba City', 'CA', '95993'], [\"Sportsman's Warehouse Colorado Springs\", '555 North Chelton Road', 'Colorado Springs', 'CO', '80909'], [\"Sportsman's Warehouse Grand Junction\", '2464 US Hwy 6 And 50', 'Grand Junction', 'CO', '81505'], [\"Sportsman's Warehouse Loveland\", '1675 Rocky Mountain Avenue', 'Loveland', 'CO', '80538'], [\"Sportsman's Warehouse Montrose\", '3451 South Rio Grand Ave.', 'Montrose', 'CO', '81401'], [\"Sportsman's Warehouse N. Colorado Springs\", '5326 North Nevada Ave', 'N. Colorado Springs', 'CO', '80918'], [\"Sportsman's Warehouse Parker\", '18420 Cottonwood Drive', 'Parker', 'CO', '80138'], [\"Sportsman's Warehouse Pueblo\", '5125 N Elizabeth St', 'Pueblo', 'CO', '81008'], [\"Sportsman's Warehouse Sheridan\", '3910 River Point Parkway', 'Sheridan', 'CO', '80110'], [\"Sportsman's Warehouse Thornton\", '11 W. 84th Avenue', 'Thornton', 'CO', '80260'], [\"Sportsman's Warehouse Cape Coral\", '527 SW Pine Island Road', 'Cape Coral', 'FL', '33991'], [\"Sportsman's Warehouse Jacksonville\", '13075 City Square Dr.', 'Jacksonville', 'FL', '32218'], [\"Sportsman's Warehouse Lady Lake\", '456 N US Hwy 27/441', 'Lady Lake', 'FL', '32159'], [\"Sportsman's Warehouse Naples\", '6329 Naples Blvd', 'Naples', 'FL', '34109'], [\"Sportsman's Warehouse Seminole\", '7967 113th St.', 'Seminole', 'FL', '33772'], [\"Sportsman's Warehouse Tampa Highwoods\", '18071 Highwoods Preserve Parkway', 'Tampa Highwoods', 'FL', '33647'], [\"Sportsman's Warehouse Idaho Falls\", '2909 S. 25th E.', 'Idaho Falls', 'ID', '83406'], [\"Sportsman's Warehouse Lewiston\", '2002 Thain Grade', 'Lewiston', 'ID', '83501'], [\"Sportsman's Warehouse Meridian\", '3797 E. Fairview Avenue', 'Meridian', 'ID', '83642'], [\"Sportsman's Warehouse Nampa\", '16865 N. Market Place Blvd.', 'Nampa', 'ID', '83687'], [\"Sportsman's Warehouse Pocatello\", '760 Yellowstone Ave', 'Pocatello', 'ID', '83201'], [\"Sportsman's Warehouse Twin Falls\", '1940 Bridgeview Boulevard', 'Twin Falls', 'ID', '83301'], [\"Sportsman's Warehouse Brownsburg\", '909 N Green Street', 'Brownsburg', 'IN', '46112'], [\"Sportsman's Warehouse Fort Wayne\", '4408 Illinois Road', 'Fort Wayne', 'IN', '46804'], [\"Sportsman's Warehouse Indianapolis\", '8806 US 31 South', 'Indianapolis', 'IN', '46227'], [\"Sportsman's Warehouse Crescent Springs\", '520 Clock Tower Way', 'Crescent Springs', 'KY', '41017'], [\"Sportsman's Warehouse Lexington\", '2200 War Admiral Way', 'Lexington', 'KY', '40509'], [\"Sportsman's Warehouse Kalamazoo\", '5215 Century Ave', 'Kalamazoo', 'MI', '49006'], [\"Sportsman's Warehouse Lansing\", '8757 Delta Market Drive', 'Lansing', 'MI', '48917'], [\"Sportsman's Warehouse Traverse City\", '3500 Market Place Circle Drive', 'Traverse City', 'MI', '49684'], [\"Sportsman's Warehouse Troy\", '750 W 14 Mile Road', 'Troy', 'MI', '48083'], [\"Sportsman's Warehouse Bozeman\", '2214 Tschache Lane', 'Bozeman', 'MT', '59718'], [\"Sportsman's Warehouse Helena\", '2990 North Sanders St.', 'Helena', 'MT', '59601'], [\"Sportsman's Warehouse Missoula\", '2323 N. Reserve St.', 'Missoula', 'MT', '59808'], [\"Sportsman's Warehouse Asheville\", '800 Brevard Road, Suite 901', 'Asheville', 'NC', '28806'], [\"Sportsman's Warehouse Greensboro\", '1305 Bridford Parkway', 'Greensboro', 'NC', '27407'], [\"Sportsman's Warehouse Wilmington\", '4715-A New Centre Drive', 'Wilmington', 'NC', '28405'], [\"Sportsman's Warehouse Albuquerque\", '1450 Renaissance Boulevard NE', 'Albuquerque', 'NM', '87107'], [\"Sportsman's Warehouse Farmington\", '4905 E. Main St.', 'Farmington', 'NM', '87402'], [\"Sportsman's Warehouse Las Cruces\", '2230 N Telshor Blvd', 'Las Cruces', 'NM', '88011'], [\"Sportsman's Warehouse Carson City\", '1443 S Carson St', 'Carson City', 'NV', '89701'], [\"Sportsman's Warehouse Henderson\", '701 Marks St', 'Henderson', 'NV', '89014'], [\"Sportsman's Warehouse Las Vegas\", '5647 Centennial Center Blvd', 'Las Vegas', 'NV', '89149'], [\"Sportsman's Warehouse Reno\", '3306 Kietzke Lane', 'Reno', 'NV', '89502'], [\"Sportsman's Warehouse Elmira\", '830 County Road 64, Unit 17', 'Elmira', 'NY', '14903'], [\"Sportsman's Warehouse Rochester\", '1200 Miracle Mile Drive', 'Rochester', 'NY', '14623'], [\"Sportsman's Warehouse Albany\", '1351 Waverly Dr. SE', 'Albany', 'OR', '97322'], [\"Sportsman's Warehouse Bend\", '63492 Hunnell Rd.', 'Bend', 'OR', '97703'], [\"Sportsman's Warehouse Hillsboro\", '10645 NE Tanasbourne Dr', 'Hillsboro', 'OR', '97124'], [\"Sportsman's Warehouse Klamath Falls\", '1863 Avalon Street', 'Klamath Falls', 'OR', '97603'], [\"Sportsman's Warehouse Medford\", '1710 Delta Waters Rd.', 'Medford', 'OR', '97504'], [\"Sportsman's Warehouse Portland\", '9401 SE 82nd Ave', 'Portland', 'OR', '97086'], [\"Sportsman's Warehouse Roseburg\", '2122 NW Stewart Parkway', 'Roseburg', 'OR', '97471'], [\"Sportsman's Warehouse Salem\", '1260 Lancaster Dr. SE', 'Salem', 'OR', '97317'], [\"Sportsman's Warehouse Altoona\", '141 Sierra Drive', 'Altoona', 'PA', '16601'], [\"Sportsman's Warehouse Camp Hill\", '3500 Capital City Mall Drive', 'Camp Hill', 'PA', '17011'], [\"Sportsman's Warehouse Chambersburg\", '3285 Black Gap Rd.', 'Chambersburg', 'PA', '17202'], [\"Sportsman's Warehouse Erie\", '2075 Interchange Rd', 'Erie', 'PA', '16506'], [\"Sportsman's Warehouse Pittsburgh\", '120 Quinn Drive', 'Pittsburgh', 'PA', '15275'], [\"Sportsman's Warehouse Warminster\", '970 West Street Road', 'Warminster', 'PA', '18974'], [\"Sportsman's Warehouse Washington\", '60 Old Mill Boulevard', 'Washington', 'PA', '15301'], [\"Sportsman's Warehouse Anderson\", '3795 Clemson Blvd.', 'Anderson', 'SC', '29621'], [\"Sportsman's Warehouse Charleston\", '4956 Centre Point Drive', 'Charleston', 'SC', '29418'], [\"Sportsman's Warehouse Columbia\", '476 Piney Grove Road', 'Columbia', 'SC', '29210'], [\"Sportsman's Warehouse Chattanooga\", '6241 Perimeter Dr.', 'Chattanooga', 'TN', '37421'], [\"Sportsman's Warehouse Murfreesboro\", '468 North Thompson Lane', 'Murfreesboro', 'TN', '37129'], [\"Sportsman's Warehouse Cedar City\", '889 S Main Street', 'Cedar City', 'UT', '84720'], [\"Sportsman's Warehouse Heber City\", '1276 S US 189', 'Heber City', 'UT', '84032'], [\"Sportsman's Warehouse Logan\", '99 E 1400 N', 'Logan', 'UT', '84341'], [\"Sportsman's Warehouse Midvale\", '165 W. 7200 S.', 'Midvale', 'UT', '84047'], [\"Sportsman's Warehouse Provo\", '1075 S University Avenue', 'Provo', 'UT', '84601'], [\"Sportsman's Warehouse Riverdale\", '1137 W. Riverdale Road', 'Riverdale', 'UT', '84405'], [\"Sportsman's Warehouse Saratoga Springs\", '851 N. Redwood Rd', 'Saratoga Springs', 'UT', '84045'], [\"Sportsman's Warehouse South Jordan\", '10462 S River Heights Dr.', 'South Jordan', 'UT', '84095'], [\"Sportsman's Warehouse St. George\", '2957 East 850 North', 'St. George', 'UT', '84790'], [\"Sportsman's Warehouse Stansbury\", '6516 N Gateway Drive', 'Stansbury', 'UT', '84074'], [\"Sportsman's Warehouse Vernal\", '2015 W Highway 40', 'Vernal', 'UT', '84078'], [\"Sportsman's Warehouse Corporate Office West Jordan\", '1475 W 9000 S', 'West Jordan', 'UT', '84008'], [\"Sportsman's Warehouse Fredericksburg\", '3708 Plank Road', 'Fredericksburg', 'VA', '22407'], [\"Sportsman's Warehouse Lynchburg\", '4026 Wards Road', 'Lynchburg', 'VA', '24502'], [\"Sportsman's Warehouse Roanoke\", '3550 Ferncliff Ave NW', 'Roanoke', 'VA', '24017'], [\"Sportsman's Warehouse Winchester\", '190 Delco Plaza', 'Winchester', 'VA', '22602'], [\"Sportsman's Warehouse Bellingham\", '4297 Meridian St', 'Bellingham', 'WA', '98226'], [\"Sportsman's Warehouse East Wenatchee\", '611 Valley Mall Pkwy', 'East Wenatchee', 'WA', '98802'], [\"Sportsman's Warehouse Everett\", '505 SE Everett Mall Way', 'Everett', 'WA', '98208'], [\"Sportsman's Warehouse Federal Way\", '1405 S 348th St.', 'Federal Way', 'WA', '98003'], [\"Sportsman's Warehouse Kelso\", '321 Three Rivers Dr', 'Kelso', 'WA', '98626'], [\"Sportsman's Warehouse Kennewick\", '6603 W Canal Dr.', 'Kennewick', 'WA', '99336'], [\"Sportsman's Warehouse Moses Lake\", '1020 N Stratford Road', 'Moses Lake', 'WA', '98837'], [\"Sportsman's Warehouse Puyallup\", '120 31st Ave SE', 'Puyallup', 'WA', '98374'], [\"Sportsman's Warehouse Sequim\", '1235 W. Washington Street', 'Sequim', 'WA', '98382'], [\"Sportsman's Warehouse Silverdale\", '9577 Ridgetop Blvd NW', 'Silverdale', 'WA', '98383'], [\"Sportsman's Warehouse Spokane\", '6720 N Division St.', 'Spokane', 'WA', '99208'], [\"Sportsman's Warehouse Spokane Valley\", '15118 E. Indiana Ave', 'Spokane Valley', 'WA', '99216'], [\"Sportsman's Warehouse Vancouver\", '11505 NE Fourth Plain Rd.', 'Vancouver', 'WA', '98662'], [\"Sportsman's Warehouse Walla Walla\", '1638 W Poplar St.', 'Walla Walla', 'WA', '99362'], [\"Sportsman's Warehouse Racine\", '2710 South Green Bay Road', 'Racine', 'WI', '53406'], [\"Sportsman's Warehouse Wausau\", '226601 Rib Mountain Drive', 'Wausau', 'WI', '54401'], [\"Sportsman's Warehouse Morgantown\", '5200 Gateway Drive', 'Morgantown', 'WV', '26501'], [\"Sportsman's Warehouse Parkersburg\", '4030 Murdoch Avenue', 'Parkersburg', 'WV', '26105'], [\"Sportsman's Warehouse Casper\", '4120 East 2nd St.', 'Casper', 'WY', '82609'], [\"Sportsman's Warehouse Cheyenne\", '3745 E Lincoln Way', 'Cheyenne', 'WY', '82001'], [\"Sportsman's Warehouse Gillette\", '91 Town Center Drive', 'Gillette', 'WY', '82718'], [\"Sportsman's Warehouse Laramie\", '2503 Grand Avenue', 'Laramie', 'WY', '82070'], [\"Sportsman's Warehouse Riverton\", '2010 North Federal Boulevard', 'Riverton', 'WY', '82501'], [\"Sportsman's Warehouse Rock Springs\", '1567 Dewar Drive', 'Rock Springs', 'WY', '82901'], [\"Sportsman's Warehouse Sheridan\", '524 E Brundage Ln', 'Sheridan', 'WY', '82801']]\n",
            "[['NAME', 'ADDRESS', 'CITY', 'STATE', 'ZIP'], [\"Sportsman's Warehouse Hot Springs\", '436 Cornerstone Blvd', 'Hot Springs', 'AR', '71913'], [\"Sportsman's Warehouse Ankeny\", '921 SE Oralabor Road', 'Ankeny', 'IA', '50021'], [\"Sportsman's Warehouse Slidell\", '300 Kensington Blvd.', 'Slidell', 'LA', '70458'], [\"Sportsman's Warehouse Coon Rapids\", '3420 124th Ave NW', 'Coon Rapids', 'MN', '55433'], [\"Sportsman's Warehouse Southaven\", '130 Marathon Way', 'Southaven', 'MS', '38671'], [\"Sportsman's Warehouse Williston\", '925 32nd Ave. West', 'Williston', 'ND', '58801'], [\"Sportsman's Warehouse Grand Island\", '3535 W. 13th Street', 'Grand Island', 'NE', '68803'], [\"Sportsman's Warehouse Cincinnati\", '700 Eastgate S. Drive', 'Cincinnati', 'OH', '45245'], [\"Sportsman's Warehouse Anchorage\", '8681 Old Seward Hwy', 'Anchorage', 'AK', '99515'], [\"Sportsman's Warehouse Fairbanks\", '423 Merhar Ave.', 'Fairbanks', 'AK', '99701'], [\"Sportsman's Warehouse Juneau\", '8745 Glacier Hwy', 'Juneau', 'AK', '99801'], [\"Sportsman's Warehouse Soldotna\", '44402 Sterling Hwy.', 'Soldotna', 'AK', '99669'], [\"Sportsman's Warehouse Wasilla\", '1901 East Parks Highway', 'Wasilla', 'AK', '99654'], [\"Sportsman's Warehouse Avondale\", '10145 W McDowell Road', 'Avondale', 'AZ', '85392'], [\"Sportsman's Warehouse Chandler\", '840 North 54th street', 'Chandler', 'AZ', '85226'], [\"Sportsman's Warehouse Flagstaff\", '2231 E Route 66', 'Flagstaff', 'AZ', '86004'], [\"Sportsman's Warehouse Mesa\", '1750 S. Greenfield Rd.', 'Mesa', 'AZ', '85206'], [\"Sportsman's Warehouse Phoenix\", '19205 N. 27th Avenue', 'Phoenix', 'AZ', '85027'], [\"Sportsman's Warehouse Prescott\", '1761 E Hwy 69 No.26', 'Prescott', 'AZ', '86301'], [\"Sportsman's Warehouse Show Low\", '4421 S White Mountain Road', 'Show Low', 'AZ', '85901'], [\"Sportsman's Warehouse South Tucson\", '5225 S Calle Santa Cruz', 'South Tucson', 'AZ', '85706'], [\"Sportsman's Warehouse Tucson\", '3945 West Costco Drive', 'Tucson', 'AZ', '85741'], [\"Sportsman's Warehouse Yuma\", '1038 S. Castle Dome Ave', 'Yuma', 'AZ', '85365'], [\"Sportsman's Warehouse Brentwood\", '5491 Lone Tree Way', 'Brentwood', 'CA', '94513'], [\"Sportsman's Warehouse Chico\", '765 East Avenue', 'Chico', 'CA', '95926'], [\"Sportsman's Warehouse Corona\", '2585 Tuscany St.', 'Corona', 'CA', '92881'], [\"Sportsman's Warehouse Elk Grove\", '8217 Laguna Blvd.', 'Elk Grove', 'CA', '95758'], [\"Sportsman's Warehouse Eureka\", '3456 Broadway', 'Eureka', 'CA', '95503'], [\"Sportsman's Warehouse Fairfield\", '1590 Gateway Blvd', 'Fairfield', 'CA', '94533'], [\"Sportsman's Warehouse Fresno\", '8468 N Friant Road', 'Fresno', 'CA', '93720'], [\"Sportsman's Warehouse Moreno\", '27550 Eucalyptus Ave', 'Moreno', 'CA', '92555'], [\"Sportsman's Warehouse Murrieta\", '25070 Madison Avenue', 'Murrieta', 'CA', '92562'], [\"Sportsman's Warehouse Rancho Cordova\", '2344 Sunrise Blvd', 'Rancho Cordova', 'CA', '95670'], [\"Sportsman's Warehouse Redding\", '1659 Hilltop Dr.', 'Redding', 'CA', '96002'], [\"Sportsman's Warehouse Rocklin\", '6640 Lonetree Blvd', 'Rocklin', 'CA', '95765'], [\"Sportsman's Warehouse Rohnert Park\", '5195 Redwood Dr.', 'Rohnert Park', 'CA', '94928'], [\"Sportsman's Warehouse Santee\", '240 Town Center Parkway', 'Santee', 'CA', '92071'], [\"Sportsman's Warehouse Stockton\", '10536 Trinity Parkway', 'Stockton', 'CA', '95219'], [\"Sportsman's Warehouse Visalia\", '1650 W Visalia Parkway', 'Visalia', 'CA', '93277'], [\"Sportsman's Warehouse Yuba City\", '1060 Harter Parkway', 'Yuba City', 'CA', '95993'], [\"Sportsman's Warehouse Colorado Springs\", '555 North Chelton Road', 'Colorado Springs', 'CO', '80909'], [\"Sportsman's Warehouse Grand Junction\", '2464 US Hwy 6 And 50', 'Grand Junction', 'CO', '81505'], [\"Sportsman's Warehouse Loveland\", '1675 Rocky Mountain Avenue', 'Loveland', 'CO', '80538'], [\"Sportsman's Warehouse Montrose\", '3451 South Rio Grand Ave.', 'Montrose', 'CO', '81401'], [\"Sportsman's Warehouse N. Colorado Springs\", '5326 North Nevada Ave', 'N. Colorado Springs', 'CO', '80918'], [\"Sportsman's Warehouse Parker\", '18420 Cottonwood Drive', 'Parker', 'CO', '80138'], [\"Sportsman's Warehouse Pueblo\", '5125 N Elizabeth St', 'Pueblo', 'CO', '81008'], [\"Sportsman's Warehouse Sheridan\", '3910 River Point Parkway', 'Sheridan', 'CO', '80110'], [\"Sportsman's Warehouse Thornton\", '11 W. 84th Avenue', 'Thornton', 'CO', '80260'], [\"Sportsman's Warehouse Cape Coral\", '527 SW Pine Island Road', 'Cape Coral', 'FL', '33991'], [\"Sportsman's Warehouse Jacksonville\", '13075 City Square Dr.', 'Jacksonville', 'FL', '32218'], [\"Sportsman's Warehouse Lady Lake\", '456 N US Hwy 27/441', 'Lady Lake', 'FL', '32159'], [\"Sportsman's Warehouse Naples\", '6329 Naples Blvd', 'Naples', 'FL', '34109'], [\"Sportsman's Warehouse Seminole\", '7967 113th St.', 'Seminole', 'FL', '33772'], [\"Sportsman's Warehouse Tampa Highwoods\", '18071 Highwoods Preserve Parkway', 'Tampa Highwoods', 'FL', '33647'], [\"Sportsman's Warehouse Idaho Falls\", '2909 S. 25th E.', 'Idaho Falls', 'ID', '83406'], [\"Sportsman's Warehouse Lewiston\", '2002 Thain Grade', 'Lewiston', 'ID', '83501'], [\"Sportsman's Warehouse Meridian\", '3797 E. Fairview Avenue', 'Meridian', 'ID', '83642'], [\"Sportsman's Warehouse Nampa\", '16865 N. Market Place Blvd.', 'Nampa', 'ID', '83687'], [\"Sportsman's Warehouse Pocatello\", '760 Yellowstone Ave', 'Pocatello', 'ID', '83201'], [\"Sportsman's Warehouse Twin Falls\", '1940 Bridgeview Boulevard', 'Twin Falls', 'ID', '83301'], [\"Sportsman's Warehouse Brownsburg\", '909 N Green Street', 'Brownsburg', 'IN', '46112'], [\"Sportsman's Warehouse Fort Wayne\", '4408 Illinois Road', 'Fort Wayne', 'IN', '46804'], [\"Sportsman's Warehouse Indianapolis\", '8806 US 31 South', 'Indianapolis', 'IN', '46227'], [\"Sportsman's Warehouse Crescent Springs\", '520 Clock Tower Way', 'Crescent Springs', 'KY', '41017'], [\"Sportsman's Warehouse Lexington\", '2200 War Admiral Way', 'Lexington', 'KY', '40509'], [\"Sportsman's Warehouse Kalamazoo\", '5215 Century Ave', 'Kalamazoo', 'MI', '49006'], [\"Sportsman's Warehouse Lansing\", '8757 Delta Market Drive', 'Lansing', 'MI', '48917'], [\"Sportsman's Warehouse Traverse City\", '3500 Market Place Circle Drive', 'Traverse City', 'MI', '49684'], [\"Sportsman's Warehouse Troy\", '750 W 14 Mile Road', 'Troy', 'MI', '48083'], [\"Sportsman's Warehouse Bozeman\", '2214 Tschache Lane', 'Bozeman', 'MT', '59718'], [\"Sportsman's Warehouse Helena\", '2990 North Sanders St.', 'Helena', 'MT', '59601'], [\"Sportsman's Warehouse Missoula\", '2323 N. Reserve St.', 'Missoula', 'MT', '59808'], [\"Sportsman's Warehouse Asheville\", '800 Brevard Road, Suite 901', 'Asheville', 'NC', '28806'], [\"Sportsman's Warehouse Greensboro\", '1305 Bridford Parkway', 'Greensboro', 'NC', '27407'], [\"Sportsman's Warehouse Wilmington\", '4715-A New Centre Drive', 'Wilmington', 'NC', '28405'], [\"Sportsman's Warehouse Albuquerque\", '1450 Renaissance Boulevard NE', 'Albuquerque', 'NM', '87107'], [\"Sportsman's Warehouse Farmington\", '4905 E. Main St.', 'Farmington', 'NM', '87402'], [\"Sportsman's Warehouse Las Cruces\", '2230 N Telshor Blvd', 'Las Cruces', 'NM', '88011'], [\"Sportsman's Warehouse Carson City\", '1443 S Carson St', 'Carson City', 'NV', '89701'], [\"Sportsman's Warehouse Henderson\", '701 Marks St', 'Henderson', 'NV', '89014'], [\"Sportsman's Warehouse Las Vegas\", '5647 Centennial Center Blvd', 'Las Vegas', 'NV', '89149'], [\"Sportsman's Warehouse Reno\", '3306 Kietzke Lane', 'Reno', 'NV', '89502'], [\"Sportsman's Warehouse Elmira\", '830 County Road 64, Unit 17', 'Elmira', 'NY', '14903'], [\"Sportsman's Warehouse Rochester\", '1200 Miracle Mile Drive', 'Rochester', 'NY', '14623'], [\"Sportsman's Warehouse Albany\", '1351 Waverly Dr. SE', 'Albany', 'OR', '97322'], [\"Sportsman's Warehouse Bend\", '63492 Hunnell Rd.', 'Bend', 'OR', '97703'], [\"Sportsman's Warehouse Hillsboro\", '10645 NE Tanasbourne Dr', 'Hillsboro', 'OR', '97124'], [\"Sportsman's Warehouse Klamath Falls\", '1863 Avalon Street', 'Klamath Falls', 'OR', '97603'], [\"Sportsman's Warehouse Medford\", '1710 Delta Waters Rd.', 'Medford', 'OR', '97504'], [\"Sportsman's Warehouse Portland\", '9401 SE 82nd Ave', 'Portland', 'OR', '97086'], [\"Sportsman's Warehouse Roseburg\", '2122 NW Stewart Parkway', 'Roseburg', 'OR', '97471'], [\"Sportsman's Warehouse Salem\", '1260 Lancaster Dr. SE', 'Salem', 'OR', '97317'], [\"Sportsman's Warehouse Altoona\", '141 Sierra Drive', 'Altoona', 'PA', '16601'], [\"Sportsman's Warehouse Camp Hill\", '3500 Capital City Mall Drive', 'Camp Hill', 'PA', '17011'], [\"Sportsman's Warehouse Chambersburg\", '3285 Black Gap Rd.', 'Chambersburg', 'PA', '17202'], [\"Sportsman's Warehouse Erie\", '2075 Interchange Rd', 'Erie', 'PA', '16506'], [\"Sportsman's Warehouse Pittsburgh\", '120 Quinn Drive', 'Pittsburgh', 'PA', '15275'], [\"Sportsman's Warehouse Warminster\", '970 West Street Road', 'Warminster', 'PA', '18974'], [\"Sportsman's Warehouse Washington\", '60 Old Mill Boulevard', 'Washington', 'PA', '15301'], [\"Sportsman's Warehouse Anderson\", '3795 Clemson Blvd.', 'Anderson', 'SC', '29621'], [\"Sportsman's Warehouse Charleston\", '4956 Centre Point Drive', 'Charleston', 'SC', '29418'], [\"Sportsman's Warehouse Columbia\", '476 Piney Grove Road', 'Columbia', 'SC', '29210'], [\"Sportsman's Warehouse Chattanooga\", '6241 Perimeter Dr.', 'Chattanooga', 'TN', '37421'], [\"Sportsman's Warehouse Murfreesboro\", '468 North Thompson Lane', 'Murfreesboro', 'TN', '37129'], [\"Sportsman's Warehouse Cedar City\", '889 S Main Street', 'Cedar City', 'UT', '84720'], [\"Sportsman's Warehouse Heber City\", '1276 S US 189', 'Heber City', 'UT', '84032'], [\"Sportsman's Warehouse Logan\", '99 E 1400 N', 'Logan', 'UT', '84341'], [\"Sportsman's Warehouse Midvale\", '165 W. 7200 S.', 'Midvale', 'UT', '84047'], [\"Sportsman's Warehouse Provo\", '1075 S University Avenue', 'Provo', 'UT', '84601'], [\"Sportsman's Warehouse Riverdale\", '1137 W. Riverdale Road', 'Riverdale', 'UT', '84405'], [\"Sportsman's Warehouse Saratoga Springs\", '851 N. Redwood Rd', 'Saratoga Springs', 'UT', '84045'], [\"Sportsman's Warehouse South Jordan\", '10462 S River Heights Dr.', 'South Jordan', 'UT', '84095'], [\"Sportsman's Warehouse St. George\", '2957 East 850 North', 'St. George', 'UT', '84790'], [\"Sportsman's Warehouse Stansbury\", '6516 N Gateway Drive', 'Stansbury', 'UT', '84074'], [\"Sportsman's Warehouse Vernal\", '2015 W Highway 40', 'Vernal', 'UT', '84078'], [\"Sportsman's Warehouse Corporate Office West Jordan\", '1475 W 9000 S', 'West Jordan', 'UT', '84008'], [\"Sportsman's Warehouse Fredericksburg\", '3708 Plank Road', 'Fredericksburg', 'VA', '22407'], [\"Sportsman's Warehouse Lynchburg\", '4026 Wards Road', 'Lynchburg', 'VA', '24502'], [\"Sportsman's Warehouse Roanoke\", '3550 Ferncliff Ave NW', 'Roanoke', 'VA', '24017'], [\"Sportsman's Warehouse Winchester\", '190 Delco Plaza', 'Winchester', 'VA', '22602'], [\"Sportsman's Warehouse Bellingham\", '4297 Meridian St', 'Bellingham', 'WA', '98226'], [\"Sportsman's Warehouse East Wenatchee\", '611 Valley Mall Pkwy', 'East Wenatchee', 'WA', '98802'], [\"Sportsman's Warehouse Everett\", '505 SE Everett Mall Way', 'Everett', 'WA', '98208'], [\"Sportsman's Warehouse Federal Way\", '1405 S 348th St.', 'Federal Way', 'WA', '98003'], [\"Sportsman's Warehouse Kelso\", '321 Three Rivers Dr', 'Kelso', 'WA', '98626'], [\"Sportsman's Warehouse Kennewick\", '6603 W Canal Dr.', 'Kennewick', 'WA', '99336'], [\"Sportsman's Warehouse Moses Lake\", '1020 N Stratford Road', 'Moses Lake', 'WA', '98837'], [\"Sportsman's Warehouse Puyallup\", '120 31st Ave SE', 'Puyallup', 'WA', '98374'], [\"Sportsman's Warehouse Sequim\", '1235 W. Washington Street', 'Sequim', 'WA', '98382'], [\"Sportsman's Warehouse Silverdale\", '9577 Ridgetop Blvd NW', 'Silverdale', 'WA', '98383'], [\"Sportsman's Warehouse Spokane\", '6720 N Division St.', 'Spokane', 'WA', '99208'], [\"Sportsman's Warehouse Spokane Valley\", '15118 E. Indiana Ave', 'Spokane Valley', 'WA', '99216'], [\"Sportsman's Warehouse Vancouver\", '11505 NE Fourth Plain Rd.', 'Vancouver', 'WA', '98662'], [\"Sportsman's Warehouse Walla Walla\", '1638 W Poplar St.', 'Walla Walla', 'WA', '99362'], [\"Sportsman's Warehouse Racine\", '2710 South Green Bay Road', 'Racine', 'WI', '53406'], [\"Sportsman's Warehouse Wausau\", '226601 Rib Mountain Drive', 'Wausau', 'WI', '54401'], [\"Sportsman's Warehouse Morgantown\", '5200 Gateway Drive', 'Morgantown', 'WV', '26501'], [\"Sportsman's Warehouse Parkersburg\", '4030 Murdoch Avenue', 'Parkersburg', 'WV', '26105'], [\"Sportsman's Warehouse Casper\", '4120 East 2nd St.', 'Casper', 'WY', '82609'], [\"Sportsman's Warehouse Cheyenne\", '3745 E Lincoln Way', 'Cheyenne', 'WY', '82001'], [\"Sportsman's Warehouse Gillette\", '91 Town Center Drive', 'Gillette', 'WY', '82718'], [\"Sportsman's Warehouse Laramie\", '2503 Grand Avenue', 'Laramie', 'WY', '82070'], [\"Sportsman's Warehouse Riverton\", '2010 North Federal Boulevard', 'Riverton', 'WY', '82501'], [\"Sportsman's Warehouse Rock Springs\", '1567 Dewar Drive', 'Rock Springs', 'WY', '82901'], [\"Sportsman's Warehouse Sheridan\", '524 E Brundage Ln', 'Sheridan', 'WY', '82801']]\n"
          ]
        }
      ]
    },
    {
      "cell_type": "code",
      "source": [
        "#https://blog.finxter.com/how-to-convert-a-list-of-lists-to-a-csv-file-in-python/#:~:text=CSV%3A%20Import%20the%20csv%20module,csv')%20.\n",
        "#Method 1\n",
        "#Export to csv\n",
        "import csv\n",
        "with open('sportsmans_store_dir.csv', 'w') as csvFile:\n",
        "    writer = csv.writer(csvFile)\n",
        "    writer.writerows(final_list)\n",
        "#csvFile.close()\n",
        "\n",
        "#https://stackoverflow.com/questions/49394737/exporting-data-from-google-colab-to-local-machine\n",
        "#Export file to your local machine\n",
        "from google.colab import files\n",
        "files.download('sportsmans_store_dir.csv')"
      ],
      "metadata": {
        "id": "29GVMpKlTutm",
        "colab": {
          "base_uri": "https://localhost:8080/",
          "height": 17
        },
        "outputId": "31b2875d-0ddc-4b13-e9df-06d9a70cadba"
      },
      "execution_count": 6,
      "outputs": [
        {
          "output_type": "display_data",
          "data": {
            "text/plain": [
              "<IPython.core.display.Javascript object>"
            ],
            "application/javascript": [
              "\n",
              "    async function download(id, filename, size) {\n",
              "      if (!google.colab.kernel.accessAllowed) {\n",
              "        return;\n",
              "      }\n",
              "      const div = document.createElement('div');\n",
              "      const label = document.createElement('label');\n",
              "      label.textContent = `Downloading \"${filename}\": `;\n",
              "      div.appendChild(label);\n",
              "      const progress = document.createElement('progress');\n",
              "      progress.max = size;\n",
              "      div.appendChild(progress);\n",
              "      document.body.appendChild(div);\n",
              "\n",
              "      const buffers = [];\n",
              "      let downloaded = 0;\n",
              "\n",
              "      const channel = await google.colab.kernel.comms.open(id);\n",
              "      // Send a message to notify the kernel that we're ready.\n",
              "      channel.send({})\n",
              "\n",
              "      for await (const message of channel.messages) {\n",
              "        // Send a message to notify the kernel that we're ready.\n",
              "        channel.send({})\n",
              "        if (message.buffers) {\n",
              "          for (const buffer of message.buffers) {\n",
              "            buffers.push(buffer);\n",
              "            downloaded += buffer.byteLength;\n",
              "            progress.value = downloaded;\n",
              "          }\n",
              "        }\n",
              "      }\n",
              "      const blob = new Blob(buffers, {type: 'application/binary'});\n",
              "      const a = document.createElement('a');\n",
              "      a.href = window.URL.createObjectURL(blob);\n",
              "      a.download = filename;\n",
              "      div.appendChild(a);\n",
              "      a.click();\n",
              "      div.remove();\n",
              "    }\n",
              "  "
            ]
          },
          "metadata": {}
        },
        {
          "output_type": "display_data",
          "data": {
            "text/plain": [
              "<IPython.core.display.Javascript object>"
            ],
            "application/javascript": [
              "download(\"download_5a59aff5-b222-41da-b07d-500bb1cbfa4d\", \"sportsmans_store_dir.csv\", 10603)"
            ]
          },
          "metadata": {}
        }
      ]
    }
  ]
}